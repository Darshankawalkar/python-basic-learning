{
 "cells": [
  {
   "cell_type": "markdown",
   "id": "6712391d",
   "metadata": {},
   "source": [
    "# BASIC OF PYTHON FOR BEGINNERS"
   ]
  },
  {
   "cell_type": "markdown",
   "id": "09c74679",
   "metadata": {},
   "source": [
    "# Types of  python Variable "
   ]
  },
  {
   "cell_type": "code",
   "execution_count": null,
   "id": "7dfd67d2",
   "metadata": {},
   "outputs": [],
   "source": [
    "day =21\n",
    "\n",
    "temp = -15\n",
    "\n",
    "weight= 190.435623\n",
    "\n",
    "print(day+3)\n",
    "\n",
    "print(weight/2)\n",
    "\n",
    "print(weight-2)\n",
    "\n",
    "\n",
    "age=29\n",
    "\n",
    "bitcoin=0.00435\n",
    "\n",
    "shirt=\"blue\"   #to defin String you have to Use Parenthesis    \n",
    "\n",
    "print(shirt)\n",
    "\n",
    "\n",
    "\n"
   ]
  },
  {
   "cell_type": "markdown",
   "id": "ba5c0ddf",
   "metadata": {},
   "source": [
    "# string-1"
   ]
  },
  {
   "cell_type": "code",
   "execution_count": null,
   "id": "caa63fad",
   "metadata": {},
   "outputs": [],
   "source": [
    "store = 'DK\\'s Pizza shops, the \"best\" There  is '\n",
    "\n",
    "print(store )\n"
   ]
  },
  {
   "cell_type": "code",
   "execution_count": null,
   "id": "333d1f33",
   "metadata": {},
   "outputs": [],
   "source": []
  },
  {
   "cell_type": "markdown",
   "id": "c21e8c9f",
   "metadata": {},
   "source": [
    "\n",
    "\n",
    "# using variable in string"
   ]
  },
  {
   "cell_type": "code",
   "execution_count": null,
   "id": "74283d5f",
   "metadata": {},
   "outputs": [],
   "source": [
    "day =15\n",
    "month='october'\n",
    "temp=38\n",
    "\n",
    "print(f\"Today is {month} {day} and it's {temp} degree outside\")\n"
   ]
  },
  {
   "cell_type": "markdown",
   "id": "81535c66",
   "metadata": {},
   "source": [
    "# e.g"
   ]
  },
  {
   "cell_type": "code",
   "execution_count": null,
   "id": "3e4cb848",
   "metadata": {},
   "outputs": [],
   "source": [
    "day_name = \"Sunday\"\n",
    "day =15\n",
    "\n",
    "temp=-15\n",
    "\n",
    "Month= \"october\"\n",
    "\n",
    "\n",
    "print(f\"Todays is {day} {month} and temp is {temp} degree\" )"
   ]
  },
  {
   "cell_type": "code",
   "execution_count": null,
   "id": "410b3c3b",
   "metadata": {},
   "outputs": [],
   "source": []
  },
  {
   "cell_type": "markdown",
   "id": "b921276a",
   "metadata": {},
   "source": [
    "# Boolean and if State "
   ]
  },
  {
   "cell_type": "code",
   "execution_count": null,
   "id": "0d0eb253",
   "metadata": {},
   "outputs": [],
   "source": [
    "light_is_on: = True\n",
    "    print(\"the light is on\")\n",
    "\n",
    "\n",
    "    "
   ]
  },
  {
   "cell_type": "code",
   "execution_count": null,
   "id": "3ea9d88e",
   "metadata": {},
   "outputs": [],
   "source": [
    "light_is_on = True\n",
    "\n",
    "if light_is_on:\n",
    "    print(\"The light is !\")\n",
    "    print(\"Hello\")\n",
    "    "
   ]
  },
  {
   "cell_type": "markdown",
   "id": "22fa21fe",
   "metadata": {},
   "source": [
    "E.g"
   ]
  },
  {
   "cell_type": "code",
   "execution_count": null,
   "id": "63ec3156",
   "metadata": {},
   "outputs": [],
   "source": [
    "baby_is_asleep = False\n",
    "\n",
    "if baby_is_asleep:\n",
    "    print(\"the baby is asleep! \")\n",
    "\n",
    "\n"
   ]
  },
  {
   "cell_type": "markdown",
   "id": "1843986f",
   "metadata": {},
   "source": [
    "# Comparison and Else"
   ]
  },
  {
   "cell_type": "code",
   "execution_count": null,
   "id": "4c7ad7c2",
   "metadata": {},
   "outputs": [],
   "source": [
    "light_is_on = False \n",
    "\n",
    "\n",
    "if light_is_on:\n",
    "    \n",
    "    print(\"the light is on!\")\n",
    "    \n",
    "else :\n",
    "    \n",
    "    print(\"We're in the dark\")\n",
    "    \n",
    "    \n",
    "weight =64\n",
    "\n",
    "if weight<60:\n",
    "    \n",
    "    print (\"you're under weight:)\")\n",
    "    \n",
    "    "
   ]
  },
  {
   "cell_type": "code",
   "execution_count": null,
   "id": "832642fb",
   "metadata": {},
   "outputs": [],
   "source": []
  },
  {
   "cell_type": "code",
   "execution_count": null,
   "id": "6e3566b0",
   "metadata": {},
   "outputs": [],
   "source": [
    "age=12\n",
    "\n",
    "if age > = 18:\n",
    "    print(\"Adult\")\n",
    "    \n",
    "else:\n",
    "    print(\"Child\")\n",
    "\n"
   ]
  },
  {
   "cell_type": "markdown",
   "id": "1ff9132f",
   "metadata": {},
   "source": [
    "# Project  Random"
   ]
  },
  {
   "cell_type": "code",
   "execution_count": null,
   "id": "a768d354",
   "metadata": {},
   "outputs": [],
   "source": [
    "import random\n",
    "\n",
    "print(random.randint(1, 10))\n",
    "\n",
    "print(random.random())\n"
   ]
  },
  {
   "cell_type": "markdown",
   "id": "0a1617a7",
   "metadata": {},
   "source": [
    "#make your own version of magic 8 ball that prints yes, no and maybe each time you ask it"
   ]
  },
  {
   "cell_type": "code",
   "execution_count": null,
   "id": "70bed398",
   "metadata": {},
   "outputs": [],
   "source": [
    "answer =random.randint(1,4)   #module and Function a chuck of Code Written By Someone to happen Something\n",
    "\n",
    "if answer ==1:\n",
    "    print(\"Yes\")\n",
    "\n",
    "if answer ==2:\n",
    "    print(\"No\")\n",
    "    \n",
    "if answer ==3:\n",
    "    print(\"Maybe\")\n",
    "    \n",
    "if answer ==4:\n",
    "    print(\"Shaklaka\")\n",
    "    "
   ]
  },
  {
   "cell_type": "markdown",
   "id": "c57ba2e8",
   "metadata": {},
   "source": [
    "# PROJECT FORTUNE COOKIE"
   ]
  },
  {
   "cell_type": "code",
   "execution_count": null,
   "id": "66c4cc0e",
   "metadata": {},
   "outputs": [],
   "source": [
    "import random\n",
    "\n",
    "lucky_number = random.randint(1, 100)\n",
    "\n",
    "fortune_number  = random.randint(1,3)\n",
    "\n",
    "fortune_text==\"  \"\n",
    "\n",
    "if fortune_number ==1:\n",
    "    fortune_text= \"you are going to married this year\"\n",
    "       \n",
    "if fortune_number ==2:\n",
    "    fortune_text= \"you are going to win match this year \"\n",
    "    \n",
    "if fortune_number  ==3:\n",
    "    \n",
    "    \n",
    "    fortune_text= \"you are going to trip Leh Laddakh this Year\"\n",
    "\n",
    "    \n",
    "print(f'{fortune_text} and your lucky number is: {lucky_number}')\n"
   ]
  },
  {
   "cell_type": "code",
   "execution_count": null,
   "id": "40bf7291",
   "metadata": {},
   "outputs": [],
   "source": []
  },
  {
   "cell_type": "markdown",
   "id": "aca181a2",
   "metadata": {},
   "source": [
    "# List Start"
   ]
  },
  {
   "cell_type": "code",
   "execution_count": null,
   "id": "863e9c64",
   "metadata": {},
   "outputs": [],
   "source": [
    "fav_movies = [\"pathan\", \"Jawan\", \"Dunki\"]\n",
    "\n",
    "print(fav_movies)\n"
   ]
  },
  {
   "cell_type": "code",
   "execution_count": null,
   "id": "bc1541dd",
   "metadata": {},
   "outputs": [],
   "source": [
    "print(fav_movies[2])"
   ]
  },
  {
   "cell_type": "code",
   "execution_count": null,
   "id": "b860a636",
   "metadata": {},
   "outputs": [],
   "source": [
    "#make  a List of your faourite number and print the first number for your list\n",
    "\n",
    "fav_number = ['10', '7', '11',  '18', '21']\n",
    "\n",
    "#print(fav_number)\n",
    "\n",
    "print(\"My Favourite Number Is:\", fav_number[0])"
   ]
  },
  {
   "cell_type": "markdown",
   "id": "99976701",
   "metadata": {},
   "source": [
    "# To find  the length of List"
   ]
  },
  {
   "cell_type": "code",
   "execution_count": null,
   "id": "87d8d63f",
   "metadata": {},
   "outputs": [],
   "source": [
    "print(len(fav_movies))"
   ]
  },
  {
   "cell_type": "markdown",
   "id": "40ee353c",
   "metadata": {},
   "source": [
    "# To add Something in List"
   ]
  },
  {
   "cell_type": "code",
   "execution_count": null,
   "id": "fe267257",
   "metadata": {},
   "outputs": [],
   "source": [
    "fav_movies = [\"pathan\", \"Jawan\", \"Dunki\"]\n",
    "\n",
    "print(fav_movies)\n"
   ]
  },
  {
   "cell_type": "code",
   "execution_count": null,
   "id": "78d42792",
   "metadata": {},
   "outputs": [],
   "source": [
    "fav_movies.append(\"Iron Man\")"
   ]
  },
  {
   "cell_type": "code",
   "execution_count": null,
   "id": "e5b50a80",
   "metadata": {},
   "outputs": [],
   "source": [
    "print(fav_movies)"
   ]
  },
  {
   "cell_type": "code",
   "execution_count": null,
   "id": "30a2d376",
   "metadata": {},
   "outputs": [],
   "source": [
    "print(len(fav_movies))"
   ]
  },
  {
   "cell_type": "code",
   "execution_count": null,
   "id": "ba77deed",
   "metadata": {},
   "outputs": [],
   "source": [
    "print(fav_movies)"
   ]
  },
  {
   "cell_type": "code",
   "execution_count": null,
   "id": "c0740ab1",
   "metadata": {},
   "outputs": [],
   "source": [
    "fav_movies.insert(3,\"BATMAN\")"
   ]
  },
  {
   "cell_type": "code",
   "execution_count": null,
   "id": "6976f63f",
   "metadata": {},
   "outputs": [],
   "source": [
    "print(fav_movies)"
   ]
  },
  {
   "cell_type": "code",
   "execution_count": null,
   "id": "5a48071a",
   "metadata": {},
   "outputs": [],
   "source": []
  },
  {
   "cell_type": "code",
   "execution_count": null,
   "id": "42b91e46",
   "metadata": {},
   "outputs": [],
   "source": [
    "del(fav_movies[0])\n",
    "\n",
    "print(fav_movies)"
   ]
  },
  {
   "cell_type": "code",
   "execution_count": null,
   "id": "17109201",
   "metadata": {},
   "outputs": [],
   "source": [
    "del(fav_movies[1])\n",
    "del(fav_movies[2])\n",
    "del(fav_movies[3])\n",
    "\n",
    "print(fav_movies)"
   ]
  },
  {
   "cell_type": "code",
   "execution_count": null,
   "id": "8ef9b724",
   "metadata": {},
   "outputs": [],
   "source": []
  },
  {
   "cell_type": "markdown",
   "id": "26af8e03",
   "metadata": {},
   "source": [
    "# For Loops"
   ]
  },
  {
   "cell_type": "code",
   "execution_count": null,
   "id": "27bdcf23",
   "metadata": {},
   "outputs": [],
   "source": [
    "for number in range (10):\n",
    "    print(number)\n",
    "    \n",
    "    \n",
    "fav_movies = [\"pathan\", \"Jawan\", \"Dunki\"]\n",
    "print(fav_movies)    \n",
    "    "
   ]
  },
  {
   "cell_type": "code",
   "execution_count": null,
   "id": "6f0ebcb3",
   "metadata": {},
   "outputs": [],
   "source": [
    "for number in range(20):\n",
    "    print(\"thank you\")\n",
    "    print(\"Hi there\")\n",
    "    "
   ]
  },
  {
   "cell_type": "markdown",
   "id": "ac51d3c6",
   "metadata": {},
   "source": [
    "# Splitting Strings"
   ]
  },
  {
   "cell_type": "code",
   "execution_count": null,
   "id": "b6e90b66",
   "metadata": {},
   "outputs": [],
   "source": [
    "text =  \"\"\"\n",
    "\n",
    "Bonheurs enfantins (हाँ!)\n",
    "Trop vite oubliés, effacés (पुण्य-पाप, पुण्य-पाप)\n",
    "Une lumière dorée brille sans fin tout au bout du chemin\n",
    "Trop vite oubliés, effacés (we back)\n",
    "Une lumière dorée brille sans (hahaha)\n",
    "Sens au cœur de la nuit\n",
    "L'onde d'espoir (Gully Gang)\n",
    "ज्वाला, ज्वाला, ज्वाला, छोटे, लाया मैं game में\n",
    "Dollar, Dollar, Dollar, छोटे, लाया मैं game में\n",
    "Ah, बड़ा नाम, नाम बनाया मैं game में\n",
    "Ah, लिया नहीं chain, तब तो हीरा है chain में\n",
    "Ah, लिखता था गली में, अब भी लिखता हूँ plane में\n",
    "असल ज़िंदगी है मेरी, छोटे, no entertainment (हाँ)\n",
    "Ah, इतिहास लिख दिया, तुझे classics दिया\n",
    "5X plat' गली वाले ने दिया (sens au cœur de la nuit)\n",
    "Ah, पीछे से आके फिर सामने से दिया\n",
    "\"सचिन का bat\" बम्बई का मैंने नाम रख दिया\n",
    "जब studio में lock, तब सब खोल दिया\n",
    "अगर दो मैंने लिए तो दस मैंने दिया\n",
    "उसने दस मुझसे लेकर डस मुझे दिया\n",
    "Ah, roll कर के पहले सब को कश मैंने दिया\n",
    "Ah, बादलों के ऊपर मैंने game रख दिया\n",
    "Ah, quality गानों से make it rain कर दिया\n",
    "बस-बस हो गया, अभी सिर्फ़ परिवार मेरा\n",
    "पहले शनि था, अब हर दिन शनिवार मेरा\n",
    "Ah, dentist से ज़्यादा मुझे game दाँत दे रहा\n",
    "Ah, vaccine है bars, और मैं सब को shot दे रहा\n",
    "मुझे game साथ दे रहा, जैसे लिया मैंने सात फेरा\n",
    "सिर्फ़ मैं जानता हूँ पुण्य-पाप मेरा (सिर्फ़ मैं)\n",
    "दिमाग़ को रखते दूसरा, और ख़्वाब पहला\n",
    "कलम से bar fest Pentecost मेरा\n",
    "अंदर मालूम तू जीता, चल हाथ ऊपर कर\n",
    "दिल से सलाम मेरे साथ थे अगर\n",
    "गहरा पानी बोल के मेरे साथ थे मगर\n",
    "भगवान मुझे बोला, \"DIVINE पानी पे चल\"\n",
    "Yeezus वाले mode में, Nas वाले mode में\n",
    "खून से बेहतर कोई नहीं, शख़्स वाले mode में\n",
    "Ah, गंदगी है तू और मैं flush वाले mode में (sens au cœur de la nuit)\n",
    "सीखा सब road पे और मैं १००-१०० था board में\n",
    "सब कुछ है ज़ोर में, DIVINE अपने zone में\n",
    "गली Gully Gang, और घर मेरा Bombay\n",
    "Ah, बच्चे-बच्चे करते rap हर कोने में (हाँ)\n",
    "Ah, सपने होते सच, तब मज़ा आता सोने में\n",
    "Classic हर बार, हर शब्द मेरे शोले में\n",
    "छाती इनकी नहीं है, इस लिए बार-बार ये बोलेंगे\n",
    "हम खोलेंगे (खोलेंगे), जैसे खो-खो का game\n",
    "तू बाहर दिखता अच्छा, सिर्फ़ promo का game\n",
    "रखता चार मेरे साथ, जैसे दो-दो का game\n",
    "Ah, तू और तेरे homie, छोटे, तुम दोनों का game\n",
    "Ah, छुट्टा पैसा रख के, देख लाया ना change\n",
    "Ah, रख तेरा fame, मैं बंदा नही same\n",
    "Ah, कप्तानी innings, ये है Kohli वाला shot\n",
    "घर के बाहर तेरे पहुँचे रंगोली वाला shot\n",
    "Ah, Konkani, Karnatak, Koli वाला shot\n",
    "खड़े होकर जला दिए, ah, Modi वाला shot\n",
    "Ah, १६ से है ख़ौफ़ और १६ से हूँ hot\n",
    "Ah, ख़तरनाक coats, जैसे tailor मेरा बाप (hah!)\n",
    "Bonheurs enfantins (hahaha)\n",
    "Trop vite oubliés, effacés\n",
    "Une lumière dorée brille sans fin tout au bout du chemin\n",
    "Trop vite oubliés, effacés\n",
    "Une lumière dorée brille sans\n",
    "Sens au cœur de la nuit\n",
    "L'onde d'espoir\n",
    "Edit कर के तूने image, मेरा meme बना दिया\n",
    "मेहनत कर के तेरे भाई ने पूरा dream बना दिया\n",
    "Ah, picture या सड़कों पे scene बना दिया\n",
    "Ah, ख़ुद का time लाया मैंने सब से बड़ा गाना दिया\n",
    "शिक्षक से पहले thugs देखा\n",
    "Ah, tiffin box से पहले मैंने drugs देखा\n",
    "२९ साल का मैं, पर लगता मैंने सब देखा\n",
    "रिश्तों में प्यार से ज़्यादा शक़ देखा\n",
    "Ah, शोहरत के लिए ज़्यादा मेहनत, ah, थोड़ा luck देखा\n",
    "Circle रखता tight, और मैं circle जितना fuck देता\n",
    "नशा अपन करते, इस लिए नशे में न रख देता\n",
    "Ah, ना-ना, ज़िंदगी तमाशा है, views तो 69 को भी आता हैं\n",
    "अपना missionary shot, ah, सब कुछ सामने से जाता है\n",
    "Ah, bank मेरा घर का, ah, ख़ुद का मेरा ख़ाता है\n",
    "License पे है album, क्यूंकि maths मुझे आता है\n",
    "Dollar जब involved, तब Cents समझ आता है\n",
    "जब bills और passion दोनों साथ में नहीं जाता है\n",
    "जो passion ना दे पैसे, वो passion नहीं सिखाता हैं\n",
    "Independent मैं नहीं, सिर्फ़ entertainment में\n",
    "Ah, independent मैं हूँ हर street के pavement पे\n",
    "इनके बाप के payment से आएँ lame men के साथ\n",
    "Ah, नज़रें तो मिलाना कभी real men के साथ\n",
    "मैं करते रहूँगा grind, जब तक ६ men दे हाथ\n",
    "Ah, सब कुछ अपन risk करते\n",
    "Ah, टूटता तारा दिखे तो अभी भी हम wish करते\n",
    "ज्ञान लिया नानी से, हाँ, अभी भी हम miss करते\n",
    "हाँ, आसमाँ को देख कर अभी भी हम kiss करते\n",
    "(हाँ-हाँ, check)\n",
    "(कलम मेरा हिंदू-मुस्लिम को मिलाता है)\n",
    "(है हिंदी में verse मेरा, पंजाब को हिलाता है)\n",
    "(पैर से लेके सर तक, सर से लेके पैर तक)\n",
    "(सब कुछ proper है, proper है, proper है)\n",
    "(हाँ-हाँ, album mode में)\n",
    "(Stunnah मेरे साथ, Mumbai शहर, २०२०)\n",
    "(नानी याद आ जाएगी)\n",
    "\n",
    "\"\"\"\n",
    "\n",
    "print(text)"
   ]
  },
  {
   "cell_type": "code",
   "execution_count": null,
   "id": "c675e791",
   "metadata": {},
   "outputs": [],
   "source": [
    "print(len(text))\n",
    "    \n",
    "print(text.split())   "
   ]
  },
  {
   "cell_type": "code",
   "execution_count": null,
   "id": "408e6168",
   "metadata": {},
   "outputs": [],
   "source": [
    "print(len(text.split()))"
   ]
  },
  {
   "cell_type": "code",
   "execution_count": null,
   "id": "14ec608e",
   "metadata": {},
   "outputs": [],
   "source": [
    "text = \"\"\" a b c a a b     \"\"\"\n",
    "\n",
    "print(text.split())\n",
    "\n"
   ]
  },
  {
   "cell_type": "code",
   "execution_count": null,
   "id": "c8c32773",
   "metadata": {},
   "outputs": [],
   "source": [
    "text = \"\"\" a b c a a b   \"\"\"\n",
    "\n",
    "print(text.split())\n",
    "\n",
    "word_count = {}\n",
    "\n",
    "for word in text.lower().split():\n",
    "    \n",
    " if word in word_count:\n",
    "    word_count[word] +=1\n",
    " else:\n",
    "    word_count[word] =1\n",
    "    \n",
    "print(word_count)    \n",
    "    \n",
    "        "
   ]
  },
  {
   "cell_type": "code",
   "execution_count": null,
   "id": "1b81b358",
   "metadata": {},
   "outputs": [],
   "source": [
    "for word"
   ]
  },
  {
   "cell_type": "markdown",
   "id": "1150e0ed",
   "metadata": {},
   "source": [
    "# Small project"
   ]
  },
  {
   "cell_type": "code",
   "execution_count": null,
   "id": "eb6dc980",
   "metadata": {},
   "outputs": [],
   "source": [
    "text = \"\"\"    \n",
    "'Bonheurs', 'enfantins', '(हाँ!)', 'Trop', 'vite', 'oubliés,', 'effacés',\n",
    "'(पुण्य-पाप,', 'पुण्य-पाप)', 'Une', 'lumière', 'dorée', 'brille', 'sans', 'fin', 'tout', 'au', 'bout', 'du', 'chemin',\n",
    "'Trop', 'vite', 'oubliés,', 'effacés', '(we', 'back)', 'Une', 'lumière', 'dorée', 'brille', 'sans', '(hahaha)', 'Sens', 'au', 'cœur', 'de', 'la', 'nuit', \"L'onde\", \"d'espoir\", '(Gully', 'Gang)', 'ज्वाला,', 'ज्वाला,', 'ज्वाला,', 'छोटे,', 'लाया', 'मैं', 'game', 'में', 'Dollar,', 'Dollar,', 'Dollar,', 'छोटे,', 'लाया', 'मैं', 'game', 'में', 'Ah,', 'बड़ा', 'नाम,', 'नाम', 'बनाया', 'मैं', 'game', 'में', 'Ah,', 'लिया', 'नहीं', 'chain,', 'तब', 'तो', 'हीरा', 'है', 'chain', 'में', 'Ah,', 'लिखता', 'था', 'गली', 'में,', 'अब', 'भी', 'लिखता', 'हूँ', 'plane', 'में', 'असल', 'ज़िंदगी', 'है', 'मेरी,', 'छोटे,', 'no', 'entertainment', '(हाँ)', 'Ah,', 'इतिहास', 'लिख', 'दिया,', 'तुझे', 'classics', 'दिया', '5X', \"plat'\", 'गली', 'वाले', 'ने', 'दिया', '(sens', 'au', 'cœur', 'de', 'la', 'nuit)', 'Ah,', 'पीछे', 'से', 'आके', 'फिर', 'सामने', 'से', 'दिया', '\"सचिन', 'का', 'bat\"', 'बम्बई', 'का', 'मैंने', 'नाम', 'रख', 'दिया', 'जब', 'studio', 'में', 'lock,', 'तब', 'सब', 'खोल', 'दिया', 'अगर', 'दो', 'मैंने', 'लिए', 'तो', 'दस', 'मैंने', 'दिया', 'उसने', 'दस', 'मुझसे', 'लेकर', 'डस', 'मुझे', 'दिया', 'Ah,', 'roll', 'कर', 'के', 'पहले', 'सब', 'को', 'कश', 'मैंने', 'दिया', 'Ah,', 'बादलों', 'के', 'ऊपर', 'मैंने', 'game', 'रख', 'दिया', 'Ah,', 'quality', 'गानों',\n",
    "'से', 'make', 'it', 'rain', 'कर', 'दिया', 'बस-बस', 'हो', 'गया,', 'अभी', 'सिर्फ़', 'परिवार', 'मेरा', 'पहले', 'शनि', 'था,', 'अब',\n",
    "'हर', 'दिन', 'शनिवार', 'मेरा', 'Ah,', 'dentist', 'से', 'ज़्यादा', 'मुझे', 'game', 'दाँत', 'दे', 'रहा', 'Ah,', 'vaccine', 'है',\n",
    "'bars,', 'और', 'मैं', 'सब', 'को', 'shot', 'दे', 'रहा', 'मुझे', 'game', 'साथ', 'दे', 'रहा,', 'जैसे', 'लिया', 'मैंने', 'सात', 'फेरा', \n",
    "'सिर्फ़', 'मैं', 'जानता', 'हूँ', 'पुण्य-पाप', 'मेरा', '(सिर्फ़', 'मैं)', 'दिमाग़', 'को', 'रखते', 'दूसरा,', 'और', 'ख़्वाब', 'पहला', 'कलम',\n",
    "'से', 'bar', 'fest', 'Pentecost', 'मेरा', 'अंदर', 'मालूम', 'तू', 'जीता,', 'चल', 'हाथ', 'ऊपर', 'कर', 'दिल', 'से', 'सलाम', 'मेरे',\n",
    "'साथ', 'थे', 'अगर', 'गहरा', 'पानी', 'बोल', 'के', 'मेरे', 'साथ', 'थे', 'मगर', 'भगवान', 'मुझे', 'बोला,', '\"DIVINE', 'पानी', 'पे',\n",
    "'चल\"', 'Yeezus', 'वाले', 'mode', 'में,', 'Nas', 'वाले', 'mode', 'में', 'खून', 'से', 'बेहतर', 'कोई', 'नहीं,', 'शख़्स', 'वाले',\n",
    "'mode', 'में', 'Ah,', 'गंदगी', 'है', 'तू', 'और', 'मैं', 'flush', 'वाले', 'mode', 'में', '(sens', 'au', 'cœur', 'de', 'la',\n",
    "'nuit)', 'सीखा', 'सब', 'road', 'पे', 'और', 'मैं', '१००-१००', 'था', 'board', 'में', 'सब', 'कुछ', 'है', 'ज़ोर', 'में,', 'DIVINE',\n",
    "'अपने', 'zone', 'में', 'गली', 'Gully', 'Gang,', 'और', 'घर', 'मेरा', 'Bombay', 'Ah,', 'बच्चे-बच्चे', 'करते', 'rap', 'हर', 'कोने',\n",
    "'में', '(हाँ)', 'Ah,', 'सपने', 'होते', 'सच,', 'तब', 'मज़ा', 'आता', 'सोने', 'में', 'Classic', 'हर', 'बार,', 'हर', 'शब्द', 'मेरे',\n",
    "'शोले', 'में', 'छाती', 'इनकी', 'नहीं', 'है,', 'इस', 'लिए', 'बार-बार', 'ये', 'बोलेंगे', 'हम', 'खोलेंगे', '(खोलेंगे),', 'जैसे', 'खो-खो',\n",
    "'का', 'game', 'तू', 'बाहर', 'दिखता', 'अच्छा,', 'सिर्फ़', 'promo', 'का', 'game', 'रखता', 'चार', 'मेरे', 'साथ,', 'जैसे', 'दो-दो', \n",
    "'का', 'game', 'Ah,', 'तू', 'और', 'तेरे', 'homie,', 'छोटे,', 'तुम', 'दोनों', 'का', 'game', 'Ah,', 'छुट्टा', 'पैसा', 'रख', 'के,', \n",
    "'देख', 'लाया', 'ना', 'change', 'Ah,', 'रख', 'तेरा', 'fame,', 'मैं', 'बंदा', 'नही', 'same', 'Ah,', 'कप्तानी', 'innings,', 'ये',\n",
    "'है', 'Kohli', 'वाला', 'shot', 'घर', 'के', 'बाहर', 'तेरे', 'पहुँचे', 'रंगोली', 'वाला', 'shot', 'Ah,', 'Konkani,', 'Karnatak,', \n",
    "'Koli', 'वाला', 'shot', 'खड़े', 'होकर', 'जला', 'दिए,', 'ah,', 'Modi', 'वाला', 'shot', 'Ah,', '१६', 'से', 'है', 'ख़ौफ़', 'और', \n",
    "'१६', 'से', 'हूँ', 'hot', 'Ah,', 'ख़तरनाक', 'coats,', 'जैसे', 'tailor', 'मेरा', 'बाप', '(hah!)', 'Bonheurs', 'enfantins',\n",
    "'(hahaha)', 'Trop', 'vite', 'oubliés,', 'effacés', 'Une', 'lumière', 'dorée', 'brille', 'sans', 'fin', 'tout', 'au',\n",
    "'bout', 'du', 'chemin', 'Trop', 'vite', 'oubliés,', 'effacés', 'Une', 'lumière', 'dorée', 'brille', 'sans', 'Sens',\n",
    "'au', 'cœur', 'de', 'la', 'nuit', \"L'onde\", \"d'espoir\", 'Edit', 'कर', 'के', 'तूने', 'image,', 'मेरा', 'meme', 'बना', 'दिया',\n",
    "'मेहनत', 'कर', 'के', 'तेरे', 'भाई', 'ने', 'पूरा', 'dream', 'बना', 'दिया', 'Ah,', 'picture', 'या', 'सड़कों', 'पे', 'scene', 'बना',\n",
    "'दिया', 'Ah,', 'ख़ुद', 'का', 'time', 'लाया', 'मैंने', 'सब', 'से', 'बड़ा', 'गाना', 'दिया', 'शिक्षक', 'से', 'पहले', 'thugs', 'देखा', \n",
    "'Ah,', 'tiffin', 'box', 'से', 'पहले', 'मैंने', 'drugs', 'देखा', '२९', 'साल', 'का', 'मैं,', 'पर', 'लगता', 'मैंने', 'सब', 'देखा', \n",
    "'रिश्तों', 'में', 'प्यार', 'से', 'ज़्यादा', 'शक़', 'देखा', 'Ah,', 'शोहरत', 'के', 'लिए', 'ज़्यादा', 'मेहनत,', 'ah,', 'थोड़ा', 'luck', 'देखा',\n",
    "'Circle', 'रखता', 'tight,', 'और', 'मैं', 'circle', 'जितना', 'fuck', 'देता', 'नशा', 'अपन', 'करते,', 'इस', 'लिए', 'नशे', 'में', \n",
    "'न', 'रख', 'देता', 'Ah,', 'ना-ना,', 'ज़िंदगी', 'तमाशा', 'है,', 'views', 'तो', '69', 'को', 'भी', 'आता', 'हैं', 'अपना', \n",
    "'missionary', 'shot,', 'ah,', 'सब', 'कुछ', 'सामने', 'से', 'जाता', 'है', 'Ah,', 'bank', 'मेरा', 'घर', 'का,', 'ah,', 'ख़ुद', \n",
    "'का', 'मेरा', 'ख़ाता', 'है', 'License', 'पे', 'है', 'album,', 'क्यूंकि', 'maths', 'मुझे', 'आता', 'है', 'Dollar', 'जब',\n",
    "'involved,', 'तब', 'Cents', 'समझ', 'आता', 'है', 'जब', 'bills', 'और', 'passion', 'दोनों', 'साथ', 'में', 'नहीं', 'जाता',\n",
    "'है', 'जो', 'passion', 'ना', 'दे', 'पैसे,', 'वो', 'passion', 'नहीं', 'सिखाता', 'हैं', 'Independent', 'मैं', 'नहीं,', 'सिर्फ़', \n",
    "'entertainment', 'में', 'Ah,', 'independent', 'मैं', 'हूँ', 'हर', 'street', 'के', 'pavement', 'पे', 'इनके', 'बाप', 'के',\n",
    "'payment', 'से', 'आएँ', 'lame', 'men', 'के', 'साथ', 'Ah,', 'नज़रें', 'तो', 'मिलाना', 'कभी', 'real', 'men', 'के', 'साथ', \n",
    "'मैं', 'करते', 'रहूँगा', 'grind,', 'जब', 'तक', '६', 'men', 'दे', 'हाथ', 'Ah,', 'सब', 'कुछ', 'अपन', 'risk', 'करते',\n",
    "'Ah,', 'टूटता', 'तारा', 'दिखे', 'तो', 'अभी', 'भी', 'हम', 'wish', 'करते', 'ज्ञान', 'लिया', 'नानी', 'से,', 'हाँ,', 'अभी', 'भी', \n",
    "'हम', 'miss', 'करते', 'हाँ,', 'आसमाँ', 'को', 'देख', 'कर', 'अभी', 'भी', 'हम', 'kiss', 'करते', '(हाँ-हाँ,', 'check)', '(कलम',\n",
    "'मेरा', 'हिंदू-मुस्लिम', 'को', 'मिलाता', 'है)', '(है', 'हिंदी', 'में', 'verse', 'मेरा,', 'पंजाब', 'को', 'हिलाता', 'है)', '(पैर', 'से', 'लेके',\n",
    "'सर', 'तक,', 'सर', 'से', 'लेके', 'पैर', 'तक)', '(सब', 'कुछ', 'proper', 'है,', 'proper', 'है,', 'proper', 'है)',\n",
    "'(हाँ-हाँ,', 'album', 'mode', 'में)', '(Stunnah', 'मेरे', 'साथ,', 'Mumbai', 'शहर,', '२०२०)', '(नानी', 'याद', 'आ', 'जाएगी)'    \"\"\"\n",
    "\n",
    "# Your text here\n",
    "\n",
    "# Remove extra spaces and split the text into words\n",
    "words = text.split()\n",
    "\n",
    "word_count = {}\n",
    "\n",
    "for word in words:\n",
    "    # Remove punctuation and convert the word to lowercase for case-insensitivity\n",
    "    word = word.strip(\"',()[]\\\"\")\n",
    "    word = word.lower()\n",
    "    \n",
    "    if word in word_count:\n",
    "        word_count[word] += 1\n",
    "    else:\n",
    "        word_count[word] = 1\n",
    "\n",
    "# Sort the words by their frequency in descending order\n",
    "sorted_word_count = dict(sorted(word_count.items(), key=lambda item: item[1], reverse=True))\n",
    "\n",
    "# Print the sorted word count\n",
    "for word, count in sorted_word_count.items():\n",
    "    print(f\"{word}: {count}\")\n",
    "\n",
    "\n"
   ]
  },
  {
   "cell_type": "code",
   "execution_count": null,
   "id": "8c76ed2f",
   "metadata": {},
   "outputs": [],
   "source": []
  },
  {
   "cell_type": "code",
   "execution_count": null,
   "id": "a17236f9",
   "metadata": {},
   "outputs": [],
   "source": [
    "text = \"\"\" a b c a a b   \"\"\"\n",
    "\n",
    "# Remove extra spaces and split the text into words\n",
    "words = text.split()\n",
    "\n",
    "word_count = {}\n",
    "\n",
    "for word in words:\n",
    "    # Convert the word to lowercase for case-insensitivity\n",
    "    word = word.lower()\n",
    "    \n",
    "    if word in word_count:\n",
    "        word_count[word] += 1\n",
    "    else:\n",
    "        word_count[word] = 1\n",
    "\n",
    "print(word_count)\n",
    "\n"
   ]
  },
  {
   "cell_type": "markdown",
   "id": "8bcf0fb6",
   "metadata": {},
   "source": [
    "# Lets Learn  Fuction"
   ]
  },
  {
   "cell_type": "code",
   "execution_count": null,
   "id": "41f26021",
   "metadata": {},
   "outputs": [],
   "source": [
    "#Dog barking functions \n",
    "\n",
    "def bark():\n",
    "    print(\"ohhh mama  ohh mama!\")\n",
    "    print(\"i'm bhanja\")\n",
    "    \n",
    "for x in range (10):\n",
    "    bark()\n",
    "\n",
    "    "
   ]
  },
  {
   "cell_type": "code",
   "execution_count": null,
   "id": "911d22dc",
   "metadata": {},
   "outputs": [],
   "source": [
    "#Create a function called hello that prints \"hello nick!\"\n",
    "\n",
    "\n",
    "def hello():\n",
    "    print(\"Hello Nick!\")\n",
    "\n",
    "for x in range(20):\n",
    "    hello()\n",
    "    \n",
    "    \n",
    "    \n",
    "    \n"
   ]
  },
  {
   "cell_type": "markdown",
   "id": "9f18d559",
   "metadata": {},
   "source": [
    "# Function in Python  Elvish bhai wala Code"
   ]
  },
  {
   "cell_type": "code",
   "execution_count": null,
   "id": "3cdeb4bb",
   "metadata": {},
   "outputs": [],
   "source": [
    "def elvish():\n",
    "    \n",
    "    print(\"Elvish Bhaiii ke aage koi bol Sakta Hai Kya 😂\")\n",
    "    print(\"Elvish Bhai 🤣\")\n",
    "    \n",
    "for x in range (10):\n",
    "    elvish()"
   ]
  },
  {
   "cell_type": "markdown",
   "id": "a42d196b",
   "metadata": {},
   "source": [
    "# Parameters-1\n",
    "\n",
    "\n",
    "\n",
    "\n"
   ]
  },
  {
   "cell_type": "code",
   "execution_count": null,
   "id": "6adc22af",
   "metadata": {},
   "outputs": [],
   "source": [
    "def hello():\n",
    "    \n",
    "    print(\"hello darshan!\")\n",
    "    \n",
    "hello()    \n",
    "    \n",
    "    \n",
    "    \n",
    "    "
   ]
  },
  {
   "cell_type": "code",
   "execution_count": null,
   "id": "0a92e01c",
   "metadata": {},
   "outputs": [],
   "source": [
    "def hello(name):\n",
    "    \n",
    "    print(f\"hello {name}!\")\n",
    "    \n",
    "hello(\"Baba john\")    \n",
    "    \n",
    "def add_numbers(num1, num2):\n",
    "    print(num1 + num2)\n",
    "     \n",
    "\n",
    "        \n",
    "add_numbers(2,8)\n",
    "    \n",
    "    "
   ]
  },
  {
   "cell_type": "code",
   "execution_count": null,
   "id": "35d5340d",
   "metadata": {},
   "outputs": [],
   "source": [
    "#Create A Function Call dog_info that takes in a dogs and nameprint a sentence about the dog\n",
    "\n",
    "def doginfo(name,age, color):\n",
    "    print(F\" he is{ } she is { } years old and her color is { })\n",
    "        \n",
    "doginfo(\"doby\" 12, \"brown\")\n"
   ]
  },
  {
   "cell_type": "code",
   "execution_count": null,
   "id": "c2e0f43d",
   "metadata": {},
   "outputs": [],
   "source": [
    "def doginfo(name, age, color):\n",
    "    print(f\" she is {name}, she is { age} years old and her color is {color }.\")\n",
    "        \n",
    "doginfo(\"Doby\" ,12 ,\"brown\")"
   ]
  },
  {
   "cell_type": "code",
   "execution_count": null,
   "id": "42e73b4a",
   "metadata": {},
   "outputs": [],
   "source": [
    "\n"
   ]
  },
  {
   "cell_type": "markdown",
   "id": "a06966cd",
   "metadata": {},
   "source": [
    "# Functions and Return"
   ]
  },
  {
   "cell_type": "code",
   "execution_count": null,
   "id": "b76f7fbd",
   "metadata": {},
   "outputs": [],
   "source": []
  },
  {
   "cell_type": "markdown",
   "id": "2e656864",
   "metadata": {},
   "source": [
    "# Comments -1 "
   ]
  },
  {
   "cell_type": "code",
   "execution_count": null,
   "id": "127c508f",
   "metadata": {},
   "outputs": [],
   "source": [
    "wallet =\"my wallet having 500 Ruppes\"\n",
    "\n",
    "print(wallet)  #bcz yesterday i have spend some amout only ihave left with 500 bucks\n",
    "\n",
    "\n",
    "#i'm going to change my life this is what i commint in the next 10 days im going to learn all small small definitionwhich I \n",
    "#should learn now fuck everything darshan just do it now "
   ]
  },
  {
   "cell_type": "markdown",
   "id": "0c6d56f7",
   "metadata": {},
   "source": [
    "# input"
   ]
  },
  {
   "cell_type": "code",
   "execution_count": null,
   "id": "49284041",
   "metadata": {},
   "outputs": [],
   "source": [
    "user_entry = input(\"ENTER SOME TEXT:   \")\n",
    "print(user_entry.lower())\n",
    "\n",
    "user_number  =  input(\"What do you want to double \")\n",
    "\n",
    "print(int(user_number)*2)\n"
   ]
  },
  {
   "cell_type": "code",
   "execution_count": null,
   "id": "f83e607e",
   "metadata": {},
   "outputs": [],
   "source": [
    "User_entry = input(\"ENTER SOME TEXT: \")\n",
    "print(User_entry.upper())"
   ]
  },
  {
   "cell_type": "markdown",
   "id": "c66aae00",
   "metadata": {},
   "source": [
    "# Challenge"
   ]
  },
  {
   "cell_type": "code",
   "execution_count": 7,
   "id": "96dca4f3",
   "metadata": {},
   "outputs": [
    {
     "name": "stdout",
     "output_type": "stream",
     "text": [
      "Enter Some text:  Darshan Vijayrao Kawalkar\n",
      "Enter 1 for UPPERCASE LETTER    or  Enter 2 for  lowercase letter: 1\n",
      "DARSHAN VIJAYRAO KAWALKAR\n"
     ]
    }
   ],
   "source": [
    "user_text =  input('Enter Some text:  ')\n",
    "\n",
    "\n",
    "upper_or_lower = input(\"Enter 1 for UPPERCASE LETTER    or  Enter 2 for  lowercase letter: \")\n",
    " \n",
    "\n",
    "if upper_or_lower ==  \"1\":  \n",
    "    \n",
    "    print(user_text.upper())\n",
    "    \n",
    "else:\n",
    "    \n",
    "    print(user_text.lower())\n",
    "\n"
   ]
  },
  {
   "cell_type": "code",
   "execution_count": 2,
   "id": "202f545a",
   "metadata": {},
   "outputs": [
    {
     "ename": "SyntaxError",
     "evalue": "unexpected EOF while parsing (2502580233.py, line 11)",
     "output_type": "error",
     "traceback": [
      "\u001b[1;36m  Input \u001b[1;32mIn [2]\u001b[1;36m\u001b[0m\n\u001b[1;33m    print(user_text.lower()\u001b[0m\n\u001b[1;37m                           ^\u001b[0m\n\u001b[1;31mSyntaxError\u001b[0m\u001b[1;31m:\u001b[0m unexpected EOF while parsing\n"
     ]
    }
   ],
   "source": [
    "upper_or_lower = input(\"Enter 1 to upprecase and 2 to lowercase: \")\n",
    " \n",
    "\n",
    "\n",
    "if upper_or_lower ==  \"1\":  \n",
    "    \n",
    "    print(user_text.upper())\n",
    "    \n",
    "else:\n",
    "    \n",
    "    print(user_text.lower()\n"
   ]
  },
  {
   "cell_type": "code",
   "execution_count": 1,
   "id": "e5646e6d",
   "metadata": {},
   "outputs": [
    {
     "name": "stdout",
     "output_type": "stream",
     "text": [
      "hello\n"
     ]
    }
   ],
   "source": [
    "print(\"hello\")"
   ]
  },
  {
   "cell_type": "markdown",
   "id": "0bbcc875",
   "metadata": {},
   "source": [
    "# Number Guess Game"
   ]
  },
  {
   "cell_type": "code",
   "execution_count": 21,
   "id": "22594318",
   "metadata": {},
   "outputs": [
    {
     "name": "stdout",
     "output_type": "stream",
     "text": [
      "What is your guess?:  2\n",
      "what is your guess?:   2\n",
      "what is your guess?:   2\n",
      "what is your guess?:   2\n",
      "what is your guess?:   3\n",
      "what is your guess?:   4\n",
      "what is your guess?:   5\n",
      "you got the right answer:)\n"
     ]
    }
   ],
   "source": [
    "guess = int(input(\"What is your guess?:  \"))\n",
    "\n",
    "correct_number = 5\n",
    "\n",
    "while guess != correct_number:\n",
    "    guess= int(input(\"what is your guess?:   \"))\n",
    "    \n",
    "print(  \"you got the right answer:)\" )\n",
    "    "
   ]
  },
  {
   "cell_type": "code",
   "execution_count": 30,
   "id": "f3740efe",
   "metadata": {},
   "outputs": [
    {
     "name": "stdout",
     "output_type": "stream",
     "text": [
      "What is your guess?:  1\n",
      "what is your guess?:   2\n",
      "what is your guess?:   3\n",
      "what is your guess?:   45\n",
      "what is your guess?:   5\n",
      "CONGRATULATION! The right answer was 5 It took you 4 guesses.\n"
     ]
    }
   ],
   "source": [
    "guess = int(input(\"What is your guess?:  \"))\n",
    "correct_number = 5\n",
    "guess_count=0\n",
    "\n",
    "while guess != correct_number:\n",
    "    guess_count += 1 \n",
    "    guess= int(input(\"what is your guess?:   \"))\n",
    "    \n",
    "print(f\"CONGRATULATION! The right answer was {correct_number} It took you {guess_count} guesses.\")\n"
   ]
  },
  {
   "cell_type": "code",
   "execution_count": 31,
   "id": "7f7cb380",
   "metadata": {},
   "outputs": [
    {
     "name": "stdout",
     "output_type": "stream",
     "text": [
      "What is your guess?:  1\n",
      "what is your guess?:   2\n",
      "what is your guess?:   3\n",
      "what is your guess?:   4\n",
      "what is your guess?:   5\n",
      "CONGRATULATION! The right answer was 5 It took you 4 guesses.\n"
     ]
    }
   ],
   "source": [
    "guess = int(input(\"What is your guess?:  \"))\n",
    "correct_number = 5\n",
    "guess_count=0\n",
    "\n",
    "while guess != correct_number:\n",
    "    \n",
    "    guess_count += 1 \n",
    "    guess= int(input(\"what is your guess?:   \"))\n",
    "    \n",
    "print(f\"CONGRATULATION! The right answer was {correct_number} It took you {guess_count} guesses.\")\n"
   ]
  },
  {
   "cell_type": "code",
   "execution_count": 33,
   "id": "e5b12d8d",
   "metadata": {},
   "outputs": [
    {
     "name": "stdout",
     "output_type": "stream",
     "text": [
      "What is your guess?: 1\n",
      "Sorry, that's not the correct answer. You have 2 guesses left.\n",
      "What is your guess?: 2\n",
      "Sorry, that's not the correct answer. You have 1 guesses left.\n",
      "What is your guess?: 10\n",
      "CONGRATULATIONS! The right answer was 10. It took you 3 guesses.\n"
     ]
    }
   ],
   "source": [
    "max_guesses = 3  # Set the maximum number of guesses\n",
    "guess_count = 0\n",
    "correct_number = 10\n",
    "\n",
    "while guess_count < max_guesses:\n",
    "    guess = int(input(\"What is your guess?: \"))\n",
    "    guess_count += 1\n",
    "    \n",
    "    if guess == correct_number:\n",
    "        print(f\"CONGRATULATIONS! The right answer was {correct_number}. It took you {guess_count} guesses.\")\n",
    "        break  # Exit the loop if the guess is correct\n",
    "    elif guess_count < max_guesses:\n",
    "        print(f\"Sorry, that's not the correct answer. You have {max_guesses - guess_count} guesses left.\")\n",
    "    else:\n",
    "        print(f\"Sorry, you've reached the maximum number of guesses. The correct answer was {correct_number}.\")\n"
   ]
  },
  {
   "cell_type": "markdown",
   "id": "913d8fb3",
   "metadata": {},
   "source": []
  }
 ],
 "metadata": {
  "kernelspec": {
   "display_name": "Python 3 (ipykernel)",
   "language": "python",
   "name": "python3"
  },
  "language_info": {
   "codemirror_mode": {
    "name": "ipython",
    "version": 3
   },
   "file_extension": ".py",
   "mimetype": "text/x-python",
   "name": "python",
   "nbconvert_exporter": "python",
   "pygments_lexer": "ipython3",
   "version": "3.9.12"
  }
 },
 "nbformat": 4,
 "nbformat_minor": 5
}
